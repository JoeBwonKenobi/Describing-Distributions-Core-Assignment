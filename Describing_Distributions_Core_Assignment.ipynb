{
 "cells": [
  {
   "cell_type": "markdown",
   "id": "58e72d5e",
   "metadata": {},
   "source": [
    "# **Describing_Distributions_Core_Assignment**"
   ]
  },
  {
   "cell_type": "markdown",
   "id": "a6f6fff5",
   "metadata": {},
   "source": [
    "Joe Lardie\n",
    "\n",
    "March 2023"
   ]
  },
  {
   "cell_type": "markdown",
   "id": "996c44d7",
   "metadata": {},
   "source": [
    "## **Imports**"
   ]
  },
  {
   "cell_type": "code",
   "execution_count": null,
   "id": "2e263f83",
   "metadata": {},
   "outputs": [],
   "source": [
    "import pandas as pd\n",
    "import numpy as np\n",
    "import matplotlib.pyplot as plt\n",
    "import seaborn as sns"
   ]
  },
  {
   "cell_type": "markdown",
   "id": "00e7d119",
   "metadata": {},
   "source": [
    "## **Plotting a Histogram with a KDE**"
   ]
  },
  {
   "cell_type": "code",
   "execution_count": null,
   "id": "fdc06221",
   "metadata": {},
   "outputs": [],
   "source": [
    "fig,ax = plt.subplots(figsize=(10,6))\n",
    "sns.histplot(df['Income'], ax = ax, stat='probability');"
   ]
  },
  {
   "cell_type": "code",
   "execution_count": null,
   "id": "2acf0fc3",
   "metadata": {},
   "outputs": [],
   "source": [
    "#Add a line for the mean (red)"
   ]
  },
  {
   "cell_type": "code",
   "execution_count": null,
   "id": "058be19d",
   "metadata": {},
   "outputs": [],
   "source": [
    "#Add a line for the median (green)"
   ]
  },
  {
   "cell_type": "code",
   "execution_count": null,
   "id": "3e542ed2",
   "metadata": {},
   "outputs": [],
   "source": [
    "#Add a line for for +1 std from the mean (black)"
   ]
  },
  {
   "cell_type": "code",
   "execution_count": null,
   "id": "8eea82e9",
   "metadata": {},
   "outputs": [],
   "source": [
    "#Add a line for the - 1 std from the mean (black)"
   ]
  },
  {
   "cell_type": "code",
   "execution_count": null,
   "id": "6face2de",
   "metadata": {},
   "outputs": [],
   "source": [
    "#Highlight the range between +1 and =1 std (yellow)"
   ]
  },
  {
   "cell_type": "code",
   "execution_count": null,
   "id": "85a93dcf",
   "metadata": {},
   "outputs": [],
   "source": []
  },
  {
   "cell_type": "code",
   "execution_count": null,
   "id": "ddf0d6db",
   "metadata": {},
   "outputs": [],
   "source": []
  },
  {
   "cell_type": "code",
   "execution_count": null,
   "id": "45022eba",
   "metadata": {},
   "outputs": [],
   "source": []
  },
  {
   "cell_type": "code",
   "execution_count": null,
   "id": "ff6ce594",
   "metadata": {},
   "outputs": [],
   "source": []
  },
  {
   "cell_type": "code",
   "execution_count": null,
   "id": "0d271a68",
   "metadata": {},
   "outputs": [],
   "source": []
  },
  {
   "cell_type": "code",
   "execution_count": null,
   "id": "bbf86de1",
   "metadata": {},
   "outputs": [],
   "source": []
  },
  {
   "cell_type": "code",
   "execution_count": null,
   "id": "92d77cbf",
   "metadata": {},
   "outputs": [],
   "source": []
  },
  {
   "cell_type": "markdown",
   "id": "3ce8aed2",
   "metadata": {},
   "source": [
    "## **Answer The Following Questions:**"
   ]
  },
  {
   "cell_type": "markdown",
   "id": "bb48fa5d",
   "metadata": {},
   "source": [
    "#### **Is it Discrete or Continuous?**"
   ]
  },
  {
   "cell_type": "markdown",
   "id": "819fbe55",
   "metadata": {},
   "source": []
  },
  {
   "cell_type": "markdown",
   "id": "729dcac3",
   "metadata": {},
   "source": [
    "#### **Does it have a skew? If so, which direction (+/-)**"
   ]
  },
  {
   "cell_type": "markdown",
   "id": "0f341e79",
   "metadata": {},
   "source": []
  },
  {
   "cell_type": "markdown",
   "id": "51820dd5",
   "metadata": {},
   "source": [
    "#### **What type of kurtosis does it display? (Mesokurtic, Leptokurtic, Platykurtic)**"
   ]
  },
  {
   "cell_type": "markdown",
   "id": "cb282e16",
   "metadata": {},
   "source": []
  },
  {
   "cell_type": "code",
   "execution_count": null,
   "id": "2aaddabe",
   "metadata": {},
   "outputs": [],
   "source": []
  },
  {
   "cell_type": "code",
   "execution_count": null,
   "id": "9d3a616e",
   "metadata": {},
   "outputs": [],
   "source": []
  },
  {
   "cell_type": "code",
   "execution_count": null,
   "id": "7750be35",
   "metadata": {},
   "outputs": [],
   "source": []
  },
  {
   "cell_type": "code",
   "execution_count": null,
   "id": "6262c501",
   "metadata": {},
   "outputs": [],
   "source": []
  },
  {
   "cell_type": "code",
   "execution_count": null,
   "id": "5351f3f9",
   "metadata": {},
   "outputs": [],
   "source": []
  },
  {
   "cell_type": "code",
   "execution_count": null,
   "id": "22201a11",
   "metadata": {},
   "outputs": [],
   "source": []
  },
  {
   "cell_type": "code",
   "execution_count": null,
   "id": "5d361f4a",
   "metadata": {},
   "outputs": [],
   "source": []
  },
  {
   "cell_type": "code",
   "execution_count": null,
   "id": "2136ebf1",
   "metadata": {},
   "outputs": [],
   "source": []
  },
  {
   "cell_type": "code",
   "execution_count": null,
   "id": "1cb418f2",
   "metadata": {},
   "outputs": [],
   "source": []
  },
  {
   "cell_type": "code",
   "execution_count": null,
   "id": "61e37500",
   "metadata": {},
   "outputs": [],
   "source": []
  },
  {
   "cell_type": "code",
   "execution_count": null,
   "id": "dc09ca82",
   "metadata": {},
   "outputs": [],
   "source": []
  },
  {
   "cell_type": "code",
   "execution_count": null,
   "id": "a96c2edb",
   "metadata": {},
   "outputs": [],
   "source": []
  },
  {
   "cell_type": "code",
   "execution_count": null,
   "id": "c434c3b3",
   "metadata": {},
   "outputs": [],
   "source": []
  },
  {
   "cell_type": "code",
   "execution_count": null,
   "id": "165caa61",
   "metadata": {},
   "outputs": [],
   "source": []
  },
  {
   "cell_type": "code",
   "execution_count": null,
   "id": "c9f784f6",
   "metadata": {},
   "outputs": [],
   "source": []
  },
  {
   "cell_type": "code",
   "execution_count": null,
   "id": "2c41b6fb",
   "metadata": {},
   "outputs": [],
   "source": []
  },
  {
   "cell_type": "code",
   "execution_count": null,
   "id": "3cc0fba1",
   "metadata": {},
   "outputs": [],
   "source": []
  },
  {
   "cell_type": "code",
   "execution_count": null,
   "id": "a379183f",
   "metadata": {},
   "outputs": [],
   "source": []
  },
  {
   "cell_type": "code",
   "execution_count": null,
   "id": "d955541f",
   "metadata": {},
   "outputs": [],
   "source": []
  },
  {
   "cell_type": "code",
   "execution_count": null,
   "id": "3e725784",
   "metadata": {},
   "outputs": [],
   "source": []
  }
 ],
 "metadata": {
  "kernelspec": {
   "display_name": "Python (dojo-env)",
   "language": "python",
   "name": "dojo-env"
  },
  "language_info": {
   "codemirror_mode": {
    "name": "ipython",
    "version": 3
   },
   "file_extension": ".py",
   "mimetype": "text/x-python",
   "name": "python",
   "nbconvert_exporter": "python",
   "pygments_lexer": "ipython3",
   "version": "3.9.15"
  },
  "toc": {
   "base_numbering": 1,
   "nav_menu": {},
   "number_sections": false,
   "sideBar": true,
   "skip_h1_title": false,
   "title_cell": "Table of Contents",
   "title_sidebar": "Contents",
   "toc_cell": false,
   "toc_position": {},
   "toc_section_display": true,
   "toc_window_display": false
  }
 },
 "nbformat": 4,
 "nbformat_minor": 5
}
